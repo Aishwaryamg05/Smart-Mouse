{
 "cells": [
  {
   "cell_type": "code",
   "execution_count": 2,
   "id": "2da676a8",
   "metadata": {},
   "outputs": [
    {
     "name": "stdout",
     "output_type": "stream",
     "text": [
      "Requirement already satisfied: mediapipe in c:\\users\\abhishek b o\\appdata\\local\\programs\\python\\python312\\lib\\site-packages (0.10.14)\n",
      "Requirement already satisfied: absl-py in c:\\users\\abhishek b o\\appdata\\local\\programs\\python\\python312\\lib\\site-packages (from mediapipe) (2.1.0)\n",
      "Requirement already satisfied: attrs>=19.1.0 in c:\\users\\abhishek b o\\appdata\\local\\programs\\python\\python312\\lib\\site-packages (from mediapipe) (23.2.0)\n",
      "Requirement already satisfied: flatbuffers>=2.0 in c:\\users\\abhishek b o\\appdata\\local\\programs\\python\\python312\\lib\\site-packages (from mediapipe) (24.3.25)\n",
      "Requirement already satisfied: jax in c:\\users\\abhishek b o\\appdata\\local\\programs\\python\\python312\\lib\\site-packages (from mediapipe) (0.4.30)\n",
      "Requirement already satisfied: jaxlib in c:\\users\\abhishek b o\\appdata\\local\\programs\\python\\python312\\lib\\site-packages (from mediapipe) (0.4.30)\n",
      "Requirement already satisfied: matplotlib in c:\\users\\abhishek b o\\appdata\\local\\programs\\python\\python312\\lib\\site-packages (from mediapipe) (3.9.1)\n",
      "Requirement already satisfied: numpy in c:\\users\\abhishek b o\\appdata\\local\\programs\\python\\python312\\lib\\site-packages (from mediapipe) (2.0.0)\n",
      "Requirement already satisfied: opencv-contrib-python in c:\\users\\abhishek b o\\appdata\\local\\programs\\python\\python312\\lib\\site-packages (from mediapipe) (4.10.0.84)\n",
      "Requirement already satisfied: protobuf<5,>=4.25.3 in c:\\users\\abhishek b o\\appdata\\local\\programs\\python\\python312\\lib\\site-packages (from mediapipe) (4.25.3)\n",
      "Requirement already satisfied: sounddevice>=0.4.4 in c:\\users\\abhishek b o\\appdata\\local\\programs\\python\\python312\\lib\\site-packages (from mediapipe) (0.4.7)\n",
      "Requirement already satisfied: CFFI>=1.0 in c:\\users\\abhishek b o\\appdata\\local\\programs\\python\\python312\\lib\\site-packages (from sounddevice>=0.4.4->mediapipe) (1.16.0)\n",
      "Requirement already satisfied: ml-dtypes>=0.2.0 in c:\\users\\abhishek b o\\appdata\\local\\programs\\python\\python312\\lib\\site-packages (from jax->mediapipe) (0.4.0)\n",
      "Requirement already satisfied: opt-einsum in c:\\users\\abhishek b o\\appdata\\local\\programs\\python\\python312\\lib\\site-packages (from jax->mediapipe) (3.3.0)\n",
      "Requirement already satisfied: scipy>=1.9 in c:\\users\\abhishek b o\\appdata\\local\\programs\\python\\python312\\lib\\site-packages (from jax->mediapipe) (1.14.0)\n",
      "Requirement already satisfied: contourpy>=1.0.1 in c:\\users\\abhishek b o\\appdata\\local\\programs\\python\\python312\\lib\\site-packages (from matplotlib->mediapipe) (1.2.1)\n",
      "Requirement already satisfied: cycler>=0.10 in c:\\users\\abhishek b o\\appdata\\local\\programs\\python\\python312\\lib\\site-packages (from matplotlib->mediapipe) (0.12.1)\n",
      "Requirement already satisfied: fonttools>=4.22.0 in c:\\users\\abhishek b o\\appdata\\local\\programs\\python\\python312\\lib\\site-packages (from matplotlib->mediapipe) (4.53.1)\n",
      "Requirement already satisfied: kiwisolver>=1.3.1 in c:\\users\\abhishek b o\\appdata\\local\\programs\\python\\python312\\lib\\site-packages (from matplotlib->mediapipe) (1.4.5)\n",
      "Requirement already satisfied: packaging>=20.0 in c:\\users\\abhishek b o\\appdata\\roaming\\python\\python312\\site-packages (from matplotlib->mediapipe) (24.1)\n",
      "Requirement already satisfied: pillow>=8 in c:\\users\\abhishek b o\\appdata\\local\\programs\\python\\python312\\lib\\site-packages (from matplotlib->mediapipe) (10.4.0)\n",
      "Requirement already satisfied: pyparsing>=2.3.1 in c:\\users\\abhishek b o\\appdata\\local\\programs\\python\\python312\\lib\\site-packages (from matplotlib->mediapipe) (3.1.2)\n",
      "Requirement already satisfied: python-dateutil>=2.7 in c:\\users\\abhishek b o\\appdata\\local\\programs\\python\\python312\\lib\\site-packages (from matplotlib->mediapipe) (2.9.0.post0)\n",
      "Requirement already satisfied: pycparser in c:\\users\\abhishek b o\\appdata\\local\\programs\\python\\python312\\lib\\site-packages (from CFFI>=1.0->sounddevice>=0.4.4->mediapipe) (2.22)\n",
      "Requirement already satisfied: six>=1.5 in c:\\users\\abhishek b o\\appdata\\local\\programs\\python\\python312\\lib\\site-packages (from python-dateutil>=2.7->matplotlib->mediapipe) (1.16.0)\n",
      "Note: you may need to restart the kernel to use updated packages.\n"
     ]
    }
   ],
   "source": [
    "pip install mediapipe"
   ]
  },
  {
   "cell_type": "code",
   "execution_count": 3,
   "id": "3549535e",
   "metadata": {},
   "outputs": [
    {
     "name": "stdout",
     "output_type": "stream",
     "text": [
      "Requirement already satisfied: pyautogui in c:\\users\\abhishek b o\\appdata\\local\\programs\\python\\python312\\lib\\site-packages (0.9.54)\n",
      "Requirement already satisfied: pymsgbox in c:\\users\\abhishek b o\\appdata\\local\\programs\\python\\python312\\lib\\site-packages (from pyautogui) (1.0.9)\n",
      "Requirement already satisfied: pytweening>=1.0.4 in c:\\users\\abhishek b o\\appdata\\local\\programs\\python\\python312\\lib\\site-packages (from pyautogui) (1.2.0)\n",
      "Requirement already satisfied: pyscreeze>=0.1.21 in c:\\users\\abhishek b o\\appdata\\local\\programs\\python\\python312\\lib\\site-packages (from pyautogui) (0.1.30)\n",
      "Requirement already satisfied: pygetwindow>=0.0.5 in c:\\users\\abhishek b o\\appdata\\local\\programs\\python\\python312\\lib\\site-packages (from pyautogui) (0.0.9)\n",
      "Requirement already satisfied: mouseinfo in c:\\users\\abhishek b o\\appdata\\local\\programs\\python\\python312\\lib\\site-packages (from pyautogui) (0.1.3)\n",
      "Requirement already satisfied: pyrect in c:\\users\\abhishek b o\\appdata\\local\\programs\\python\\python312\\lib\\site-packages (from pygetwindow>=0.0.5->pyautogui) (0.2.0)\n",
      "Requirement already satisfied: pyperclip in c:\\users\\abhishek b o\\appdata\\local\\programs\\python\\python312\\lib\\site-packages (from mouseinfo->pyautogui) (1.9.0)\n",
      "Note: you may need to restart the kernel to use updated packages.\n"
     ]
    }
   ],
   "source": [
    "pip install pyautogui"
   ]
  },
  {
   "cell_type": "code",
   "execution_count": 4,
   "id": "194a1d5e",
   "metadata": {},
   "outputs": [
    {
     "name": "stdout",
     "output_type": "stream",
     "text": [
      "Requirement already satisfied: pynput==1.7.6 in c:\\users\\abhishek b o\\appdata\\local\\programs\\python\\python312\\lib\\site-packages (1.7.6)Note: you may need to restart the kernel to use updated packages.\n",
      "\n",
      "Requirement already satisfied: six in c:\\users\\abhishek b o\\appdata\\local\\programs\\python\\python312\\lib\\site-packages (from pynput==1.7.6) (1.16.0)\n"
     ]
    }
   ],
   "source": [
    "pip install pynput==1.7.6"
   ]
  },
  {
   "cell_type": "code",
   "execution_count": 5,
   "id": "a33dfd91",
   "metadata": {},
   "outputs": [],
   "source": [
    "import cv2\n",
    "import mediapipe as mp\n",
    "import numpy as np\n",
    "import util\n",
    "import pyautogui\n",
    "from pynput.mouse import Button, Controller\n",
    "import random \n",
    "# import time"
   ]
  },
  {
   "cell_type": "code",
   "execution_count": 6,
   "id": "0d42207f",
   "metadata": {},
   "outputs": [],
   "source": [
    "# pip install opencv-python"
   ]
  },
  {
   "cell_type": "code",
   "execution_count": 7,
   "id": "e0d102f7",
   "metadata": {},
   "outputs": [],
   "source": [
    "# pip install opencv-contrib-python"
   ]
  },
  {
   "cell_type": "code",
   "execution_count": 8,
   "id": "cfbbd117",
   "metadata": {},
   "outputs": [
    {
     "name": "stdout",
     "output_type": "stream",
     "text": [
      "Package               Version\n",
      "--------------------- -----------\n",
      "absl-py               2.1.0\n",
      "asgiref               3.8.1\n",
      "asttokens             2.4.1\n",
      "attrs                 23.2.0\n",
      "cffi                  1.16.0\n",
      "colorama              0.4.6\n",
      "comm                  0.2.2\n",
      "contourpy             1.2.1\n",
      "cycler                0.12.1\n",
      "debugpy               1.8.2\n",
      "decorator             5.1.1\n",
      "distlib               0.3.8\n",
      "Django                5.0.6\n",
      "executing             2.0.1\n",
      "filelock              3.15.4\n",
      "flatbuffers           24.3.25\n",
      "fonttools             4.53.1\n",
      "ipykernel             6.29.5\n",
      "ipython               8.26.0\n",
      "jax                   0.4.30\n",
      "jaxlib                0.4.30\n",
      "jedi                  0.19.1\n",
      "jupyter_client        8.6.2\n",
      "jupyter_core          5.7.2\n",
      "kiwisolver            1.4.5\n",
      "linear-regression     0.1\n",
      "matplotlib            3.9.1\n",
      "matplotlib-inline     0.1.7\n",
      "mediapipe             0.10.14\n",
      "ml-dtypes             0.4.0\n",
      "MouseInfo             0.1.3\n",
      "nest-asyncio          1.6.0\n",
      "numpy                 2.0.0\n",
      "opencv-contrib-python 4.10.0.84\n",
      "opencv-python         4.10.0.84\n",
      "opt-einsum            3.3.0\n",
      "packaging             24.1\n",
      "pandas                2.2.2\n",
      "parso                 0.8.4\n",
      "pillow                10.4.0\n",
      "pip                   24.1.2\n",
      "platformdirs          4.2.2\n",
      "prompt_toolkit        3.0.47\n",
      "protobuf              4.25.3\n",
      "psutil                6.0.0\n",
      "pure-eval             0.2.2\n",
      "PyAutoGUI             0.9.54\n",
      "pycparser             2.22\n",
      "PyGetWindow           0.0.9\n",
      "Pygments              2.18.0\n",
      "PyMsgBox              1.0.9\n",
      "pynput                1.7.6\n",
      "pyparsing             3.1.2\n",
      "pyperclip             1.9.0\n",
      "PyRect                0.2.0\n",
      "PyScreeze             0.1.30\n",
      "python-dateutil       2.9.0.post0\n",
      "pytweening            1.2.0\n",
      "pytz                  2024.1\n",
      "pywin32               306\n",
      "pyzmq                 26.0.3\n",
      "scipy                 1.14.0\n",
      "six                   1.16.0\n",
      "sounddevice           0.4.7\n",
      "sqlparse              0.5.0\n",
      "stack-data            0.6.3\n",
      "tornado               6.4.1\n",
      "traitlets             5.14.3\n",
      "tzdata                2024.1\n",
      "virtualenv            20.26.3\n",
      "virtualenvwrapper-win 1.2.7\n",
      "wcwidth               0.2.13\n",
      "Note: you may need to restart the kernel to use updated packages.\n"
     ]
    }
   ],
   "source": [
    "pip list"
   ]
  },
  {
   "cell_type": "code",
   "execution_count": 9,
   "id": "574ffc06",
   "metadata": {},
   "outputs": [],
   "source": [
    "screen_width, screen_height = pyautogui.size()\n",
    "mouse = Controller()\n",
    "\n",
    "mphands = mp.solutions.hands\n",
    "hands = mphands.Hands(\n",
    "    static_image_mode = False, # no image hands needed to detect \n",
    "    model_complexity = 1,\n",
    "    min_detection_confidence = 0.7, # in order to identify a thing in display as a hand  the accuracy must be more min 70%\n",
    "    min_tracking_confidence = 0.7,  # in order to track the movement of hand min accurac of 70 % required \n",
    "    max_num_hands = 1 # is display contain more number of hand it need to recognize only one \n",
    ")"
   ]
  },
  {
   "cell_type": "code",
   "execution_count": 10,
   "id": "9e9ade0f",
   "metadata": {},
   "outputs": [],
   "source": [
    "def move_mouse(index_finger_tip):\n",
    "    if index_finger_tip is not None:\n",
    "        x = int(index_finger_tip.x * 1000)  # the position value will be in a between a 0 and 1 but we need  value like less than 50 like that so we multiply it by 1000\n",
    "        y = int(index_finger_tip.y * 1000)\n",
    "        pyautogui.moveTo(x,y)"
   ]
  },
  {
   "cell_type": "code",
   "execution_count": 11,
   "id": "7140c19c",
   "metadata": {},
   "outputs": [],
   "source": [
    "# def move_mouse(index_finger_tip):\n",
    "#     current_x, current_y = pyautogui.position()\n",
    "#     if index_finger_tip is not None:\n",
    "#         dict = [{x : int(index_finger_tip.x * 1000)},  # the position value will be in a between a 0 and 1 but we need  value like less than 50 like that so we multiply it by 1000\n",
    "#         {y : int(index_finger_tip.y * 1000)}]\n",
    "#         for dict in dict:\n",
    "#             x = (current_x + dict.x)\n",
    "#             y = (current_y +dict.y)\n",
    "#             pyautogui.moveTo(x, y)"
   ]
  },
  {
   "cell_type": "code",
   "execution_count": 12,
   "id": "8fd61ef4",
   "metadata": {},
   "outputs": [],
   "source": [
    "# def move_cursor_relative(x_offset, y_offset):\n",
    "#     # Get the current cursor position\n",
    "#     current_x, current_y = pyautogui.position()\n",
    "#     print(f\"Current position: ({current_x}, {current_y})\")\n",
    "    \n",
    "#     # Calculate the new position\n",
    "#     new_x = current_x + x_offset\n",
    "#     new_y = current_y + y_offset\n",
    "    \n",
    "#     # Move the cursor to the new position\n",
    "#     pyautogui.moveTo(new_x, new_y, duration=1)  # Move with a duration of 1 second\n",
    "#     print(f\"New position: ({new_x}, {new_y})\")"
   ]
  },
  {
   "cell_type": "code",
   "execution_count": 13,
   "id": "5869340e",
   "metadata": {},
   "outputs": [],
   "source": [
    "def find_finger_tip(processed):\n",
    "    if processed.multi_hand_landmarks:\n",
    "        hand_landmarks = processed.multi_hand_landmarks[0]\n",
    "        return hand_landmarks.landmark[mphands.HandLandmark.INDEX_FINGER_TIP]\n",
    "    return None"
   ]
  },
  {
   "cell_type": "code",
   "execution_count": 14,
   "id": "edfed396",
   "metadata": {},
   "outputs": [],
   "source": [
    "def is_left_click(landmarks_list, thumb_index_dist):\n",
    "    return (util.get_angle(landmarks_list[5], landmarks_list[6], landmarks_list[8]) < 30  and \n",
    "            util.get_angle(landmarks_list[9], landmarks_list[10], landmarks_list[12]) > 50 and \n",
    "            util.get_angle(landmarks_list[17], landmarks_list[18], landmarks_list[20]) > 90 and\n",
    "            # thumb_indextip_dist > 40 and\n",
    "            thumb_index_dist > 75\n",
    "            )\n",
    "\n",
    "\n",
    "def is_right_click(landmarks_list, thumb_index_dist):\n",
    "    return (util.get_angle(landmarks_list[5], landmarks_list[6], landmarks_list[8]) > 50 and \n",
    "            util.get_angle(landmarks_list[9], landmarks_list[10], landmarks_list[12]) < 30  and \n",
    "            util.get_angle(landmarks_list[17], landmarks_list[18], landmarks_list[20]) > 90 and\n",
    "            thumb_index_dist > 75\n",
    "            )\n",
    "\n",
    "def is_double_click(landmarks_list, thumb_index_dist):\n",
    "    return (util.get_angle(landmarks_list[5], landmarks_list[6], landmarks_list[8]) < 50 and \n",
    "            util.get_angle(landmarks_list[9], landmarks_list[10], landmarks_list[12]) < 50 and \n",
    "            thumb_index_dist > 75\n",
    "            )\n",
    "\n",
    "def is_screenshot(landmarks_list, thumb_index_dist):\n",
    "    return (util.get_angle(landmarks_list[5], landmarks_list[6], landmarks_list[8]) < 50 and \n",
    "            util.get_angle(landmarks_list[9], landmarks_list[10], landmarks_list[12]) < 50 and \n",
    "            thumb_index_dist < 75\n",
    "            )\n",
    "\n",
    "# def is_drag(landmarks_list, thumb_mid_dist):\n",
    "#     return (util.get_angle(landmarks_list[17], landmarks_list[18], landmarks_list[20]) > 90 and\n",
    "#             util.get_angle(landmarks_list[5], landmarks_list[6], landmarks_list[8]) > 50 and \n",
    "#             thumb_mid_dist < 30\n",
    "            # )"
   ]
  },
  {
   "cell_type": "code",
   "execution_count": 15,
   "id": "18bd9563",
   "metadata": {},
   "outputs": [],
   "source": [
    "def detect_gestures(frame, landmarks_list, processed):\n",
    "    if len(landmarks_list)>=21:\n",
    "        index_finger_tip = find_finger_tip(processed)\n",
    "        thumb_index_dist = util.get_distance([landmarks_list[4],landmarks_list[5]])\n",
    "        # thumb_mid_dist = util.get_distance([landmarks_list[4],landmarks_list[8]])\n",
    "        # thumb_indextip_dist = util.get_distance([landmarks_list[8],landmarks_list[4]])\n",
    "        # thumb_midtip_dist = util.get_distance([landmarks_list[12],landmarks_list[1]])\n",
    "\n",
    "        if thumb_index_dist < 30 and util.get_angle(landmarks_list[5],landmarks_list[6],landmarks_list[8]) > 90 :\n",
    "            move_mouse(index_finger_tip) \n",
    "\n",
    "        \n",
    "        # left click\n",
    "        elif is_left_click(landmarks_list, thumb_index_dist): \n",
    "            mouse.press(Button.left)\n",
    "            mouse.release(Button.left)\n",
    "\n",
    "        # right click\n",
    "        elif is_right_click(landmarks_list, thumb_index_dist):\n",
    "            mouse.press(Button.right)\n",
    "            mouse.release(Button.right)\n",
    "\n",
    "\n",
    "        # double click\n",
    "        elif is_double_click(landmarks_list, thumb_index_dist): \n",
    "            pyautogui.doubleClick()\n",
    "\n",
    "\n",
    "\n",
    "        # screenshot\n",
    "        elif is_screenshot(landmarks_list, thumb_index_dist):\n",
    "            im1 = pyautogui.screenshot()\n",
    "            label = random.randint(1, 1000)\n",
    "            im1.save(f'my_screenshot_{label}.png')\n",
    "\n",
    "        # elif is_drag(landmarks_list,thumb_mid_dist):\n",
    "        #      if index_finger_tip is not None:\n",
    "        #         x = int(index_finger_tip.x * 1000)  # the position value will be in a between a 0 and 1 but we need  value like less than 50 like that so we multiply it by 1000\n",
    "        #         y = int(index_finger_tip.y * 1000)\n",
    "        #         pyautogui.dragTo(x,y)\n",
    "            \n"
   ]
  },
  {
   "cell_type": "code",
   "execution_count": 16,
   "id": "ba4b6bc3",
   "metadata": {},
   "outputs": [],
   "source": [
    "pyautogui.FAILSAFE = False"
   ]
  },
  {
   "cell_type": "code",
   "execution_count": 17,
   "id": "e032ce69",
   "metadata": {},
   "outputs": [
    {
     "name": "stderr",
     "output_type": "stream",
     "text": [
      "c:\\Users\\Abhishek B O\\AppData\\Local\\Programs\\Python\\Python312\\Lib\\site-packages\\google\\protobuf\\symbol_database.py:55: UserWarning: SymbolDatabase.GetPrototype() is deprecated. Please use message_factory.GetMessageClass() instead. SymbolDatabase.GetPrototype() will be removed soon.\n",
      "  warnings.warn('SymbolDatabase.GetPrototype() is deprecated. Please '\n"
     ]
    }
   ],
   "source": [
    "def  main():\n",
    "    cap = cv2.VideoCapture(0)\n",
    "    draw = mp.solutions.drawing_utils  # to draw a hand marks and all\n",
    "    try:\n",
    "        while cap.isOpened():\n",
    "            ret,frame = cap.read()   #ret is returning a boolean value if abel to capture a video it will return true else false\n",
    "            \n",
    "            if not ret:    #if ret is false\n",
    "                print ('not abel to open a video')\n",
    "            frame = cv2.flip(frame,1) # mirror the video that will visible like we are viewing a camera\n",
    "            framergb = cv2.cvtColor(frame, cv2.COLOR_BGR2RGB) # to convert the color from bgr to rgb\n",
    "            \n",
    "            processed = hands.process(framergb)  # to process the color changed hand and store in a variable\n",
    "            landmarks_list = []\n",
    "            \n",
    "            if processed.multi_hand_landmarks:   # if anything is processed then \n",
    "                hand_landmarks = processed.multi_hand_landmarks[0]   # select any one of the processed hand land marks and store it in a variable\n",
    "                draw.draw_landmarks(frame, hand_landmarks, mphands.HAND_CONNECTIONS) # after identifying a landmarks on a hand join them \n",
    "                 \n",
    "                for lm in hand_landmarks.landmark:\n",
    "                    landmarks_list.append((lm.x, lm.y))\n",
    "\n",
    "                \n",
    "                # print(landmarks_list)\n",
    "                \n",
    "            detect_gestures(frame, landmarks_list, processed)  #calling a function\n",
    "                \n",
    "            cv2.imshow('Frame',frame)\n",
    "            if cv2.waitKey(1) & 0xFF == ord('q'):  #wait for 1sec for each frame and 0xff says that a keyboard input : if keyboard input is q then video capturing will end\n",
    "                break\n",
    "                \n",
    "    finally:\n",
    "        cap.release()\n",
    "        cv2.destroyAllWindows()\n",
    "        \n",
    "if __name__ == '__main__':  #file wont run any where except this main file\n",
    "    main()"
   ]
  },
  {
   "cell_type": "code",
   "execution_count": null,
   "id": "b8aef703",
   "metadata": {},
   "outputs": [],
   "source": []
  }
 ],
 "metadata": {
  "kernelspec": {
   "display_name": "Python 3 (ipykernel)",
   "language": "python",
   "name": "python3"
  },
  "language_info": {
   "codemirror_mode": {
    "name": "ipython",
    "version": 3
   },
   "file_extension": ".py",
   "mimetype": "text/x-python",
   "name": "python",
   "nbconvert_exporter": "python",
   "pygments_lexer": "ipython3",
   "version": "3.12.4"
  }
 },
 "nbformat": 4,
 "nbformat_minor": 5
}
